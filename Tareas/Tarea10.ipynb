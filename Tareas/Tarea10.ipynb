{
 "cells": [
  {
   "attachments": {},
   "cell_type": "markdown",
   "metadata": {},
   "source": [
    "# Tarea 10"
   ]
  },
  {
   "attachments": {},
   "cell_type": "markdown",
   "metadata": {},
   "source": [
    "## Conexión"
   ]
  },
  {
   "attachments": {},
   "cell_type": "markdown",
   "metadata": {},
   "source": [
    "Se instalan e importan las librerías necesarias y se establece la conexión."
   ]
  },
  {
   "cell_type": "code",
   "execution_count": null,
   "metadata": {},
   "outputs": [],
   "source": [
    "pip install mysql-connector-python"
   ]
  },
  {
   "cell_type": "code",
   "execution_count": null,
   "metadata": {},
   "outputs": [],
   "source": [
    "pip install pandas\n",
    "pip install matplotlib\n",
    "pip install matplotlib.pyplot"
   ]
  },
  {
   "cell_type": "code",
   "execution_count": 6,
   "metadata": {},
   "outputs": [],
   "source": [
    "import mysql.connector\n",
    "import pandas as pd\n",
    "from pandas import DataFrame\n",
    "import matplotlib"
   ]
  },
  {
   "cell_type": "code",
   "execution_count": 7,
   "metadata": {},
   "outputs": [],
   "source": [
    "conn = mysql.connector.connect(\n",
    "    host = 'localhost',\n",
    "    user = 'root',\n",
    "    database = 'BDR_financial',\n",
    "    password = 'treboles'\n",
    ")"
   ]
  },
  {
   "attachments": {},
   "cell_type": "markdown",
   "metadata": {},
   "source": [
    "## Guardar en dataframes de pandas"
   ]
  },
  {
   "attachments": {},
   "cell_type": "markdown",
   "metadata": {},
   "source": [
    "Se guardan las tablas de la base de datos en dataframes de pandas"
   ]
  },
  {
   "cell_type": "code",
   "execution_count": null,
   "metadata": {},
   "outputs": [],
   "source": [
    "card_df = pd.read_sql_query(\"SELECT * FROM card\", conn)\n",
    "disp_df = pd.read_sql_query(\"SELECT * FROM disp\", conn)\n",
    "client_df = pd.read_sql_query(\"SELECT * FROM client\", conn)\n",
    "district_df = pd.read_sql_query(\"SELECT * FROM district\", conn)\n",
    "loan_df = pd.read_sql_query(\"SELECT * FROM loan\", conn)\n",
    "account_df = pd.read_sql_query(\"SELECT * FROM account\", conn)\n",
    "orders_df = pd.read_sql_query(\"SELECT * FROM orders1\", conn)\n",
    "trans_df = pd.read_sql_query(\"SELECT * FROM trans\", conn)"
   ]
  },
  {
   "attachments": {},
   "cell_type": "markdown",
   "metadata": {},
   "source": [
    "## Consultas relevantes y operaciones de agregación."
   ]
  },
  {
   "cell_type": "code",
   "execution_count": 9,
   "metadata": {},
   "outputs": [],
   "source": [
    "cursor = conn.cursor()"
   ]
  },
  {
   "cell_type": "code",
   "execution_count": 25,
   "metadata": {},
   "outputs": [
    {
     "data": {
      "text/plain": [
       "[(17, Decimal('422513014')),\n",
       " (13, Decimal('210696236')),\n",
       " (68, Decimal('55679575')),\n",
       " (28, Decimal('45949138')),\n",
       " (46, Decimal('45949138'))]"
      ]
     },
     "execution_count": 25,
     "metadata": {},
     "output_type": "execute_result"
    }
   ],
   "source": [
    "query1 = \"\"\"\n",
    "SELECT d.Client_ID, sum(l.amount) as total_loan\n",
    "FROM loan l\n",
    "JOIN disp d ON l.Account_ID = d.Account_ID\n",
    "GROUP BY d.Client_ID\n",
    "ORDER BY total_loan DESC\n",
    "LIMIT 5\n",
    "\"\"\"\n",
    "\n",
    "cursor.execute(query1)\n",
    "result1 = cursor.fetchall()\n",
    "\n",
    "result1\n"
   ]
  },
  {
   "attachments": {},
   "cell_type": "markdown",
   "metadata": {},
   "source": [
    "La consulta anterior muestra los cinco clientes con préstamos más altos."
   ]
  },
  {
   "cell_type": "code",
   "execution_count": 11,
   "metadata": {},
   "outputs": [
    {
     "data": {
      "text/plain": [
       "[(28, 2),\n",
       " (13, 2),\n",
       " (68, 5),\n",
       " (23, 4),\n",
       " (65, 2),\n",
       " (85, 1),\n",
       " (44, 3),\n",
       " (66, 2),\n",
       " (55, 3),\n",
       " (12, 1),\n",
       " (71, 1),\n",
       " (91, 1),\n",
       " (82, 2),\n",
       " (92, 2),\n",
       " (49, 1),\n",
       " (20, 1),\n",
       " (61, 4),\n",
       " (78, 1),\n",
       " (46, 2),\n",
       " (36, 1),\n",
       " (29, 1),\n",
       " (79, 1),\n",
       " (16, 1),\n",
       " (57, 2),\n",
       " (35, 2),\n",
       " (53, 1),\n",
       " (64, 1),\n",
       " (62, 4),\n",
       " (99, 2),\n",
       " (41, 1),\n",
       " (72, 1),\n",
       " (7, 1),\n",
       " (27, 1),\n",
       " (50, 2),\n",
       " (17, 3),\n",
       " (93, 1),\n",
       " (97, 1),\n",
       " (80, 4),\n",
       " (9, 2),\n",
       " (5, 1),\n",
       " (52, 3),\n",
       " (90, 2)]"
      ]
     },
     "execution_count": 11,
     "metadata": {},
     "output_type": "execute_result"
    }
   ],
   "source": [
    "query2 = \"\"\"\n",
    "SELECT c.Client_ID, count(l.Loan_ID) as número_préstamos\n",
    "FROM Client c\n",
    "JOIN Disp d ON c.Client_ID = d.Client_ID\n",
    "JOIN Account a ON d.Account_ID = a.Account_ID\n",
    "JOIN Loan l ON a.Account_ID = l.Account_ID\n",
    "GROUP BY c.Client_ID\n",
    "\"\"\"\n",
    "\n",
    "\n",
    "cursor.execute(query2)\n",
    "result_query2 = cursor.fetchall()\n",
    "\n",
    "result_query2"
   ]
  },
  {
   "attachments": {},
   "cell_type": "markdown",
   "metadata": {},
   "source": [
    "Este query ayuda a obtener el número total de préstamos de cada cliente. Se utiliza una operación de agregación (COUNT) junto con un GROUP BY para agrupar por cliente."
   ]
  },
  {
   "cell_type": "code",
   "execution_count": 12,
   "metadata": {},
   "outputs": [
    {
     "name": "stdout",
     "output_type": "stream",
     "text": [
      "Total préstamos otorgados: 100\n"
     ]
    }
   ],
   "source": [
    "total_loans = \"\"\"\n",
    "SELECT COUNT(Loan_ID) AS total_loans\n",
    "FROM Loan\n",
    "\"\"\"\n",
    "\n",
    "cursor.execute(total_loans)\n",
    "t_loans = cursor.fetchone()[0]\n",
    "print(\"Total préstamos otorgados:\", t_loans)"
   ]
  },
  {
   "cell_type": "code",
   "execution_count": 13,
   "metadata": {},
   "outputs": [
    {
     "name": "stdout",
     "output_type": "stream",
     "text": [
      "Monto promedio de préstamos: 17144397.1600\n"
     ]
    }
   ],
   "source": [
    "prom_loan = \"\"\"\n",
    "SELECT AVG(amount) AS prom_loan\n",
    "FROM Loan\n",
    "\"\"\"\n",
    "\n",
    "cursor.execute(prom_loan)\n",
    "prom_loan = cursor.fetchone()[0]\n",
    "print(\"Monto promedio de préstamos:\", prom_loan)"
   ]
  },
  {
   "attachments": {},
   "cell_type": "markdown",
   "metadata": {},
   "source": [
    "## Visualizaciones de consultas."
   ]
  },
  {
   "attachments": {},
   "cell_type": "markdown",
   "metadata": {},
   "source": [
    "Se importa la librería para los graficos."
   ]
  },
  {
   "cell_type": "code",
   "execution_count": 18,
   "metadata": {},
   "outputs": [],
   "source": [
    "import matplotlib.pyplot as plt"
   ]
  },
  {
   "attachments": {},
   "cell_type": "markdown",
   "metadata": {},
   "source": [
    "Visualización del query 1."
   ]
  },
  {
   "cell_type": "code",
   "execution_count": 38,
   "metadata": {},
   "outputs": [
    {
     "data": {
      "image/png": "[encoded data removed]",
      "text/plain": [
       "<Figure size 640x480 with 1 Axes>"
      ]
     },
     "metadata": {},
     "output_type": "display_data"
    }
   ],
   "source": [
    "\n",
    "# se definen los datos de la consulta y se limita a la cantidad de clientes deseado (top 5)\n",
    "client_ids = [row[0] for row in result1[:5]]\n",
    "total_loans = [row[1] for row in result1[:5]]\n",
    "\n",
    "# grafico\n",
    "plt.bar(range(len(client_ids)), total_loans, color='skyblue')\n",
    "plt.xticks(range(len(client_ids)), client_ids)\n",
    "plt.xlabel('ID cliente')\n",
    "plt.ylabel('Monto toal préstamo')\n",
    "plt.title('Top 5 Clientes con mayores préstamos')\n",
    "\n",
    "plt.tight_layout()\n",
    "plt.show()\n"
   ]
  },
  {
   "attachments": {},
   "cell_type": "markdown",
   "metadata": {},
   "source": [
    "Visualización del query 2."
   ]
  },
  {
   "cell_type": "code",
   "execution_count": 39,
   "metadata": {},
   "outputs": [
    {
     "data": {
      "image/png": "[encoded data removed]",
      "text/plain": [
       "<Figure size 1000x600 with 1 Axes>"
      ]
     },
     "metadata": {},
     "output_type": "display_data"
    }
   ],
   "source": [
    "# se definen los datos de la consulta\n",
    "client_ids = [row[0] for row in result_query2]\n",
    "num_loans = [row[1] for row in result_query2]\n",
    "\n",
    "# gráfico\n",
    "plt.figure(figsize=(10, 6)) \n",
    "plt.bar(range(len(client_ids)), num_loans, color='green')\n",
    "plt.xticks(range(len(client_ids)), client_ids)\n",
    "plt.xlabel('ID cliente')\n",
    "plt.ylabel('Número de préstamos')\n",
    "plt.title('Número de préstamos por cliente')\n",
    "\n",
    "plt.tight_layout()\n",
    "plt.show()\n"
   ]
  }
 ],
 "metadata": {
  "kernelspec": {
   "display_name": "Python 3",
   "language": "python",
   "name": "python3"
  },
  "language_info": {
   "codemirror_mode": {
    "name": "ipython",
    "version": 3
   },
   "file_extension": ".py",
   "mimetype": "text/x-python",
   "name": "python",
   "nbconvert_exporter": "python",
   "pygments_lexer": "ipython3",
   "version": "3.9.6"
  },
  "orig_nbformat": 4
 },
 "nbformat": 4,
 "nbformat_minor": 2
}
